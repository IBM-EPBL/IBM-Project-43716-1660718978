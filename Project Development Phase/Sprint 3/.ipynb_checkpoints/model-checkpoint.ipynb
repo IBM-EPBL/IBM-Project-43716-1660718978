{
 "cells": [
  {
   "cell_type": "markdown",
   "id": "41b11d80",
   "metadata": {},
   "source": [
    "# Import Libraries"
   ]
  },
  {
   "cell_type": "code",
   "execution_count": 1,
   "id": "802d0d9c",
   "metadata": {},
   "outputs": [],
   "source": [
    "import sklearn\n",
    "from sklearn.preprocessing import MinMaxScaler\n",
    "from sklearn.metrics import confusion_matrix, accuracy_score\n",
    "from sklearn.model_selection import train_test_split\n",
    "from sklearn.linear_model import LogisticRegression\n",
    "from sklearn.metrics import accuracy_score\n",
    "import pandas as pd\n",
    "import pickle"
   ]
  },
  {
   "cell_type": "markdown",
   "id": "085af969",
   "metadata": {},
   "source": [
    "## Identifying dependent and independent variables"
   ]
  },
  {
   "cell_type": "code",
   "execution_count": 2,
   "id": "e8b266d0",
   "metadata": {},
   "outputs": [
    {
     "data": {
      "text/plain": [
       "array([[-1,  1,  1, ...,  1,  1, -1],\n",
       "       [ 1,  1,  1, ...,  1,  1,  1],\n",
       "       [ 1,  0,  1, ...,  1,  0, -1],\n",
       "       ...,\n",
       "       [ 1, -1,  1, ...,  1,  0,  1],\n",
       "       [-1, -1,  1, ...,  1,  1,  1],\n",
       "       [-1, -1,  1, ..., -1,  1, -1]], dtype=int64)"
      ]
     },
     "execution_count": 2,
     "metadata": {},
     "output_type": "execute_result"
    }
   ],
   "source": [
    "df = pd.read_csv('dataset_website.csv')\n",
    "x = df.iloc[:, 1:31].values\n",
    "x"
   ]
  },
  {
   "cell_type": "code",
   "execution_count": 4,
   "id": "480d79ea",
   "metadata": {},
   "outputs": [
    {
     "data": {
      "text/plain": [
       "array([-1, -1, -1, ..., -1, -1, -1], dtype=int64)"
      ]
     },
     "execution_count": 4,
     "metadata": {},
     "output_type": "execute_result"
    }
   ],
   "source": [
    "y = df.iloc[:, -1].values\n",
    "y"
   ]
  },
  {
   "cell_type": "markdown",
   "id": "e6d35ab3",
   "metadata": {},
   "source": [
    "## Training"
   ]
  },
  {
   "cell_type": "code",
   "execution_count": 5,
   "id": "c22dcd3b",
   "metadata": {},
   "outputs": [
    {
     "data": {
      "text/plain": [
       "array([[ 1, -1,  1, ...,  1,  0,  1],\n",
       "       [ 1, -1,  1, ...,  1,  0,  1],\n",
       "       [ 1, -1,  1, ...,  1,  1,  1],\n",
       "       ...,\n",
       "       [-1, -1,  1, ...,  1,  1,  1],\n",
       "       [ 1, -1,  1, ...,  1,  0,  1],\n",
       "       [ 1, -1,  1, ...,  1,  1,  1]], dtype=int64)"
      ]
     },
     "execution_count": 5,
     "metadata": {},
     "output_type": "execute_result"
    }
   ],
   "source": [
    "x_train, x_test, y_train, y_test = train_test_split(x,y, test_size = 0.2, random_state = 0)\n",
    "x_test"
   ]
  },
  {
   "cell_type": "code",
   "execution_count": 6,
   "id": "88943f35",
   "metadata": {},
   "outputs": [
    {
     "data": {
      "text/plain": [
       "LogisticRegression()"
      ]
     },
     "execution_count": 6,
     "metadata": {},
     "output_type": "execute_result"
    }
   ],
   "source": [
    "lr = LogisticRegression() #initializing the model\n",
    "lr_fit = lr.fit(x_train, y_train,) #fitting the model\n",
    "lr_fit"
   ]
  },
  {
   "cell_type": "markdown",
   "id": "4678c1af",
   "metadata": {},
   "source": [
    "## Predicting using model "
   ]
  },
  {
   "cell_type": "code",
   "execution_count": 7,
   "id": "183718c0",
   "metadata": {},
   "outputs": [
    {
     "data": {
      "text/plain": [
       "0.9167797376752601"
      ]
     },
     "execution_count": 7,
     "metadata": {},
     "output_type": "execute_result"
    }
   ],
   "source": [
    "ypred = lr.predict(x_test)\n",
    "log_reg = accuracy_score(y_test, ypred)\n",
    "log_reg"
   ]
  },
  {
   "cell_type": "markdown",
   "id": "a4d988da",
   "metadata": {},
   "source": [
    "## Saving the model "
   ]
  },
  {
   "cell_type": "code",
   "execution_count": 8,
   "id": "484023bb",
   "metadata": {},
   "outputs": [],
   "source": [
    "pickle.dump(lr,open('Phishing_Websitte.pkl', 'wb')) "
   ]
  },
  {
   "cell_type": "code",
   "execution_count": null,
   "id": "c3083dec",
   "metadata": {},
   "outputs": [],
   "source": []
  }
 ],
 "metadata": {
  "kernelspec": {
   "display_name": "Python 3 (ipykernel)",
   "language": "python",
   "name": "python3"
  },
  "language_info": {
   "codemirror_mode": {
    "name": "ipython",
    "version": 3
   },
   "file_extension": ".py",
   "mimetype": "text/x-python",
   "name": "python",
   "nbconvert_exporter": "python",
   "pygments_lexer": "ipython3",
   "version": "3.9.13"
  },
  "vscode": {
   "interpreter": {
    "hash": "eb636ae3dc6c17d9ec7e866e73c0d1f23b607a57c34981c4adf506d212a3e2eb"
   }
  }
 },
 "nbformat": 4,
 "nbformat_minor": 5
}
